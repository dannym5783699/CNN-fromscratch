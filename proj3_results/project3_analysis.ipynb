{
 "cells": [
  {
   "cell_type": "code",
   "execution_count": 24,
   "metadata": {},
   "outputs": [],
   "source": [
    "import pandas as pd\n",
    "import ast"
   ]
  },
  {
   "cell_type": "code",
   "execution_count": 63,
   "metadata": {},
   "outputs": [],
   "source": [
    "def clean_optimizer_name(row):\n",
    "\n",
    "    if row[\"optimizer\"] == \"adam\":\n",
    "        return \"Adam\"\n",
    "    elif row[\"optimizer\"] == \"newton\":\n",
    "        return \"Newton\"\n",
    "    elif row[\"optimizer\"] == \"gd\":\n",
    "        if row[\"friction\"] == 0:\n",
    "            return \"GD\"\n",
    "        else:\n",
    "            return \"Nesterov\"\n",
    "    else:\n",
    "        raise ValueError(f\"Unknown optimizer: {row['optimizer']}\")\n",
    "    \n",
    "    return df\n",
    "\n",
    "metric_map = {\n",
    "    \"mean_fit_time\": \"Fit Time (s)\",\n",
    "    \"mean_test_score\": \"Accuracy\",\n",
    "}"
   ]
  },
  {
   "cell_type": "code",
   "execution_count": 74,
   "metadata": {},
   "outputs": [],
   "source": [
    "experiments = {\n",
    "    \"Handwritten Digits\" : \"handwritten_digits_results.csv\",\n",
    "    \"Titanic\" : \"titanic_results.csv\"\n",
    "}\n",
    "\n",
    "for experiment_name, fname in experiments.items():\n",
    "\n",
    "    df = pd.read_csv(fname)\n",
    "    df.columns = df.columns.str.replace(\"param_model__\", \"\")\n",
    "\n",
    "    df[\"optimizer_kw_args\"] = df[\"optimizer_kw_args\"].apply(\n",
    "        lambda x: ast.literal_eval(x) if isinstance(x, str) else x\n",
    "    )\n",
    "\n",
    "    df[\"optimizer_kw_args\"] = df[\"optimizer_kw_args\"].apply(\n",
    "        lambda x: {} if pd.isna(x) else x\n",
    "    )\n",
    "    expanded_df = pd.DataFrame.from_records(df[\"optimizer_kw_args\"])\n",
    "\n",
    "    df = pd.concat([df, expanded_df], axis=1)\n",
    "\n",
    "    df = df.drop(columns=[\"optimizer_kw_args\"])\n",
    "\n",
    "    df[\"optimizer\"] = df.apply(clean_optimizer_name, axis=1)\n",
    "\n",
    "    numeric_df = df.select_dtypes(include=\"number\")  # Select numeric columns only\n",
    "    grouped = df.groupby([\"optimizer\", \"max_epochs\"], sort=\"mean_test_score\")[numeric_df.columns].agg([\"mean\", \"std\"])[list(metric_map.keys())]\n",
    "\n",
    "    grouped.columns = [f\"{metric_map[metric]} ({stat})\" for metric, stat in grouped.columns if metric in metric_map.keys()]\n",
    "\n",
    "    # grouped.set_index(grouped.index.set_names([\"Optimizer\", \"Max Epochs\"]), inplace=True)\n",
    "    grouped.to_latex(\n",
    "        f\"{experiment_name}_table.tex\",\n",
    "        index=True,\n",
    "        float_format=\"%.2f\",\n",
    "        longtable=True,\n",
    "        caption=f\"{experiment_name} Results\",\n",
    "        label=f\"tab:{experiment_name.lower().replace(' ', '_')}_results\"\n",
    "        )\n",
    "    \n",
    "    grouped\n",
    "    "
   ]
  }
 ],
 "metadata": {
  "kernelspec": {
   "display_name": "nn_assignment_1",
   "language": "python",
   "name": "python3"
  },
  "language_info": {
   "codemirror_mode": {
    "name": "ipython",
    "version": 3
   },
   "file_extension": ".py",
   "mimetype": "text/x-python",
   "name": "python",
   "nbconvert_exporter": "python",
   "pygments_lexer": "ipython3",
   "version": "3.11.9"
  }
 },
 "nbformat": 4,
 "nbformat_minor": 2
}
